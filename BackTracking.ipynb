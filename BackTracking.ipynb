{
 "cells": [
  {
   "cell_type": "code",
   "execution_count": 1,
   "metadata": {},
   "outputs": [
    {
     "name": "stdout",
     "output_type": "stream",
     "text": [
      "00\n",
      "01\n",
      "10\n",
      "11\n"
     ]
    }
   ],
   "source": [
    "# printallbinay\n",
    "def Helper(num,output):\n",
    "    if num == 0:\n",
    "        print(output)\n",
    "        return\n",
    "    Helper(num-1,output+'0')\n",
    "    Helper(num-1,output+'1')\n",
    "def Binary(num):\n",
    "    return (Helper(num,''))\n",
    "Binary(2)"
   ]
  },
  {
   "cell_type": "code",
   "execution_count": 2,
   "metadata": {},
   "outputs": [
    {
     "name": "stdout",
     "output_type": "stream",
     "text": [
      "[4, 6, 7]\n",
      "[4, 7, 6]\n",
      "[6, 4, 7]\n",
      "[6, 7, 4]\n",
      "[7, 4, 6]\n",
      "[7, 6, 4]\n"
     ]
    }
   ],
   "source": [
    "# All permutation\n",
    "def helper(nums,val):\n",
    "    res = []\n",
    "    for i in range(len(nums)):\n",
    "        if i == val:continue;\n",
    "        res.append(nums[i])\n",
    "    return res\n",
    "def Num(nums,ans):\n",
    "    if len(nums)==0:\n",
    "        print(ans)\n",
    "        return \n",
    "    for i in range(len(nums)):\n",
    "        Num(helper(nums,i),ans+[nums[i]])\n",
    "Num([4,6,7],[])"
   ]
  },
  {
   "cell_type": "code",
   "execution_count": 3,
   "metadata": {},
   "outputs": [
    {
     "data": {
      "text/plain": [
       "[[4, 6, 7, 7], [4, 6, 7], [4, 7, 7], [4, 7], [6, 7, 7], [6, 7], [7, 7], [7]]"
      ]
     },
     "execution_count": 3,
     "metadata": {},
     "output_type": "execute_result"
    }
   ],
   "source": [
    "# All permutation\n",
    "def Prem(nums,ind,ans,result):\n",
    "    if ind == len(nums):\n",
    "        result.append(ans[:])\n",
    "    used = set()\n",
    "    for i in range(ind,len(nums)):\n",
    "        if nums[i] in used:continue;\n",
    "        if len(ans)>2 and ans[-1]>nums[i]:continue;\n",
    "        Prem(nums,i+1,ans+[nums[i]],result)\n",
    "    return result\n",
    "def findSubsequences(nums):\n",
    "    result = []\n",
    "    return Prem(nums,0,[],result)\n",
    "findSubsequences([4,6,7,7])"
   ]
  },
  {
   "cell_type": "code",
   "execution_count": 4,
   "metadata": {},
   "outputs": [
    {
     "data": {
      "text/plain": [
       "[[4, 6], [4, 6, 7], [4, 6, 7, 7], [4, 7], [4, 7, 7], [6, 7], [6, 7, 7], [7, 7]]"
      ]
     },
     "execution_count": 4,
     "metadata": {},
     "output_type": "execute_result"
    }
   ],
   "source": [
    "def dfs(nums,ans,ind,res):\n",
    "    if len(nums)>=ind and len(ans) >= 2:\n",
    "        res.append(ans[:])\n",
    "    used = set()\n",
    "    for i in range(ind,len(nums)):\n",
    "        if nums[i] in used:continue;\n",
    "        if len(ans)>0 and ans[-1]>nums[i]:continue;\n",
    "        used.add(nums[i])\n",
    "        ans.append(nums[i])\n",
    "        dfs(nums,ans,i+1,res)\n",
    "        ans.pop()\n",
    "    return res\n",
    "nums = [4,6,7,7]\n",
    "dfs(nums,[],0,[])"
   ]
  },
  {
   "cell_type": "code",
   "execution_count": 5,
   "metadata": {},
   "outputs": [
    {
     "data": {
      "text/plain": [
       "['a1b2', 'a1B2', 'A1b2', 'A1B2']"
      ]
     },
     "execution_count": 5,
     "metadata": {},
     "output_type": "execute_result"
    }
   ],
   "source": [
    "def helper(S,temp,res,i):\n",
    "    if i == len(S):\n",
    "        res.append(temp)\n",
    "        return\n",
    "    if S[i].isnumeric():\n",
    "        helper(S,temp+S[i],res,i+1)\n",
    "    else:\n",
    "        helper(S,temp+S[i].lower(),res,i+1)\n",
    "        helper(S,temp+S[i].upper(),res,i+1)\n",
    "res = []\n",
    "helper('a1b2','',res,0)\n",
    "res"
   ]
  },
  {
   "cell_type": "code",
   "execution_count": 6,
   "metadata": {},
   "outputs": [
    {
     "data": {
      "text/plain": [
       "[[1, 2, 3], [1, 3, 2], [2, 1, 3], [2, 3, 1], [3, 1, 2], [3, 2, 1]]"
      ]
     },
     "execution_count": 6,
     "metadata": {},
     "output_type": "execute_result"
    }
   ],
   "source": [
    "def helper(nums,ans,ind,res,used):\n",
    "    if len(ans)==len(nums):\n",
    "        res.append(ans[:])\n",
    "        return \n",
    "    for i in range(len(nums)):\n",
    "        if i in used:continue;\n",
    "        ans.append(nums[i])\n",
    "        used.add(i)\n",
    "        helper(nums,ans,i+1,res,used)\n",
    "        ans.pop()\n",
    "        used.remove(i)\n",
    "res = []\n",
    "nums = [1,2,3]\n",
    "helper(nums,[],0,res,set())\n",
    "res"
   ]
  },
  {
   "cell_type": "code",
   "execution_count": 8,
   "metadata": {},
   "outputs": [],
   "source": [
    "# self.N = n\n",
    "def helper(n,s,k,ind,used):\n",
    "    if len(s)==n:\n",
    "        ind+=1\n",
    "        return s\n",
    "    for i in range(1,n+1):\n",
    "        if i in used:continue;\n",
    "        used.add(i)\n",
    "        helper(n,s+str(i),k,ind,used)\n",
    "        used.remove(i)\n",
    "n = 4\n",
    "k = 9\n",
    "helper(n,'',k,1,set())"
   ]
  },
  {
   "cell_type": "code",
   "execution_count": 9,
   "metadata": {},
   "outputs": [
    {
     "data": {
      "text/plain": [
       "[[1, 1, 2], [1, 2, 1], [2, 1, 1]]"
      ]
     },
     "execution_count": 9,
     "metadata": {},
     "output_type": "execute_result"
    }
   ],
   "source": [
    "def Perhelper(nums,ans,ind,res,used):\n",
    "    if len(ans)==len(nums):\n",
    "        res.append(ans[:])\n",
    "        return \n",
    "    for i in range(len(nums)):\n",
    "        if i in used:continue;\n",
    "        if i>0 and nums[i-1]==nums[i] and (i-1) not in used:continue;\n",
    "        ans.append(nums[i])\n",
    "        used.add(i)\n",
    "        Perhelper(nums,ans,ind+1,res,used)\n",
    "        ans.pop()\n",
    "        used.remove(i)\n",
    "res = []\n",
    "nums = [1,1,2]\n",
    "Perhelper(sorted(nums),[],0,res,set())\n",
    "res"
   ]
  },
  {
   "cell_type": "code",
   "execution_count": 10,
   "metadata": {},
   "outputs": [
    {
     "data": {
      "text/plain": [
       "'845697321'"
      ]
     },
     "execution_count": 10,
     "metadata": {},
     "output_type": "execute_result"
    }
   ],
   "source": [
    "def getPermutation(n,k):\n",
    "    def fact(n):\n",
    "        r = 1\n",
    "        for i in range(2,n+1):\n",
    "            r *= i\n",
    "        return r\n",
    "\n",
    "    nums = [str(i) for i in range(1,n+1)]\n",
    "    s=''\n",
    "    while(nums):\n",
    "        div = fact(len(nums)-1)\n",
    "        idx = 0\n",
    "        while(k>div):\n",
    "            idx += 1\n",
    "            k -= div\n",
    "\n",
    "        s += nums.pop(idx)\n",
    "\n",
    "    return s\n",
    "getPermutation(9,300000)"
   ]
  },
  {
   "cell_type": "code",
   "execution_count": 11,
   "metadata": {},
   "outputs": [
    {
     "name": "stdout",
     "output_type": "stream",
     "text": [
      "{'BA', 'AAB', 'ABA', 'AB', 'A', 'BAA', 'B', 'AA'}\n"
     ]
    }
   ],
   "source": [
    "def helper(s,temp,used,use):\n",
    "    #base case\n",
    "    if temp and temp not in used:\n",
    "        used.add(temp)\n",
    "    for i in range(len(s)):\n",
    "        if i in use:continue;\n",
    "        #choose and explore\n",
    "        use.add(i)\n",
    "        helper(s,temp+s[i],used,use)\n",
    "        #unchoose\n",
    "        use.remove(i)\n",
    "tiles = \"AAB\"\n",
    "used = set()\n",
    "helper(tiles,'',used,set())\n",
    "print(used)\n",
    "# \"A\", \"B\", \"AA\", \"AB\", \"BA\", \"AAB\", \"ABA\", \"BAA\"."
   ]
  },
  {
   "cell_type": "code",
   "execution_count": 13,
   "metadata": {},
   "outputs": [
    {
     "name": "stdout",
     "output_type": "stream",
     "text": [
      "ab\n"
     ]
    }
   ],
   "source": [
    "class CombinationIterator:\n",
    "    def Combi(self,characters,ind,combinationLength,ans):\n",
    "        if len(ans)==combinationLength:\n",
    "            self.combination.append(ans)\n",
    "            return \n",
    "        for i in range(ind,len(characters)):\n",
    "            self.Combi(characters,i+1,combinationLength,ans+characters[i])\n",
    "    def __init__(self, characters: str, combinationLength: int):\n",
    "        self.combination = []\n",
    "        self.Combi(characters,0,combinationLength,'')\n",
    "        self.i = 0\n",
    "    def next(self) -> str:\n",
    "        val = self.combination[self.i]\n",
    "        self.i+=1\n",
    "        return val\n",
    "    def hasNext(self) -> bool:\n",
    "        if self.i>=len(self.combination):\n",
    "            return False\n",
    "        return True\n",
    "# Your CombinationIterator object will be instantiated and called as such:\n",
    "characters = 'abc'\n",
    "combinationLength = 2\n",
    "obj = CombinationIterator(characters, combinationLength)\n",
    "param_1 = obj.next()\n",
    "param_2 = obj.hasNext()\n",
    "print(param_1)"
   ]
  },
  {
   "cell_type": "code",
   "execution_count": 14,
   "metadata": {},
   "outputs": [
    {
     "data": {
      "text/plain": [
       "[[1, 2], [2, 1]]"
      ]
     },
     "execution_count": 14,
     "metadata": {},
     "output_type": "execute_result"
    }
   ],
   "source": [
    "def Beautiful(n,ans,res,used):\n",
    "    if len(ans)==n:\n",
    "        res.append(ans[:])\n",
    "        return \n",
    "    for i in range(1,n+1):\n",
    "        if i in used:continue;\n",
    "        ans.append(i)\n",
    "        used.add(i)\n",
    "        Beautiful(n,ans,res,used)\n",
    "        ans.pop()\n",
    "        used.remove(i)\n",
    "res = []\n",
    "Beautiful(2,[],res,set())\n",
    "res"
   ]
  },
  {
   "cell_type": "code",
   "execution_count": 15,
   "metadata": {},
   "outputs": [
    {
     "data": {
      "text/plain": [
       "[[1, 2], [1, 3], [2, 3]]"
      ]
     },
     "execution_count": 15,
     "metadata": {},
     "output_type": "execute_result"
    }
   ],
   "source": [
    "def helpComi(n,k,ind,ans,res):\n",
    "    #base\n",
    "    if len(ans)==k:\n",
    "        res.append(ans[:])\n",
    "    for i in range(ind,n+1):\n",
    "        #choose\n",
    "        ans.append(i)\n",
    "        #explore\n",
    "        helpComi(n,k,i+1,ans,res)\n",
    "        #unchoose\n",
    "        ans.pop()\n",
    "res = []\n",
    "helpComi(3,2,1,[],res)\n",
    "res"
   ]
  },
  {
   "cell_type": "code",
   "execution_count": 16,
   "metadata": {},
   "outputs": [
    {
     "data": {
      "text/plain": [
       "[[2, 2, 3], [7]]"
      ]
     },
     "execution_count": 16,
     "metadata": {},
     "output_type": "execute_result"
    }
   ],
   "source": [
    "def CombiSumhelper(candidates,target,ans,res,ind):\n",
    "    #base\n",
    "    if sum(ans)>target:\n",
    "        return \n",
    "    if sum(ans)==target:\n",
    "        res.append(ans[:])\n",
    "        return \n",
    "    for i in range(ind,len(candidates)):\n",
    "        #choose\n",
    "        ans.append(candidates[i])\n",
    "        #explore\n",
    "        CombiSumhelper(candidates,target,ans,res,i)\n",
    "        #unchoose\n",
    "        ans.pop()\n",
    "candidates = [2,3,6,7]\n",
    "res = []\n",
    "CombiSumhelper(candidates,7,[],res,0)\n",
    "res"
   ]
  },
  {
   "cell_type": "code",
   "execution_count": 17,
   "metadata": {},
   "outputs": [
    {
     "data": {
      "text/plain": [
       "['ad', 'ae', 'af', 'bd', 'be', 'bf', 'cd', 'ce', 'cf']"
      ]
     },
     "execution_count": 17,
     "metadata": {},
     "output_type": "execute_result"
    }
   ],
   "source": [
    "def letterCombinationsHelp(s,ind,maps,ans,res):\n",
    "    if len(ans)>= len(s):\n",
    "        res.append(ans[:])\n",
    "        return\n",
    "    for i in range(ind,len(s)):\n",
    "        for j in maps[s[i]]:\n",
    "            ans+=j\n",
    "            letterCombinationsHelp(s,i+1,maps,ans,res)  \n",
    "            ans  = ans[:len(ans)-1]\n",
    "maps = {'2':'abc','3':'def','4':'ghi','5':'jkl','6':'mno','7':'pqrs','8':'tuv','9':'wxyz'}\n",
    "res = []\n",
    "letterCombinationsHelp('23',0,maps,'',res)\n",
    "res"
   ]
  },
  {
   "cell_type": "code",
   "execution_count": 19,
   "metadata": {},
   "outputs": [
    {
     "data": {
      "text/plain": [
       "[[1, 5, 9],\n",
       " [1, 6, 8],\n",
       " [2, 4, 9],\n",
       " [2, 5, 8],\n",
       " [2, 6, 7],\n",
       " [3, 4, 8],\n",
       " [3, 5, 7],\n",
       " [4, 5, 6]]"
      ]
     },
     "execution_count": 19,
     "metadata": {},
     "output_type": "execute_result"
    }
   ],
   "source": [
    "def combinationSum3Help(k,n,ind,ans,res):\n",
    "    if n<0:\n",
    "        return \n",
    "    if n == 0 and len(ans)==k:\n",
    "        res.append(ans[:])\n",
    "        return \n",
    "    for i in range(ind,10):\n",
    "        if n-i>=0:\n",
    "            ans.append(i)\n",
    "            combinationSum3Help(k,n-i,i+1,ans,res)\n",
    "            ans.pop()\n",
    "res = []\n",
    "combinationSum3Help(3,15,1,[],res)\n",
    "res"
   ]
  },
  {
   "cell_type": "code",
   "execution_count": 20,
   "metadata": {},
   "outputs": [
    {
     "name": "stdout",
     "output_type": "stream",
     "text": [
      "123\n",
      "234\n"
     ]
    }
   ],
   "source": [
    "def seq(low,high,ind,ans):\n",
    "    if ans and low <= int(ans) < high:\n",
    "        print(ans)\n",
    "    for i in range(ind,10):\n",
    "        if ans and str(i-1) != ans[-1]: continue;\n",
    "        ans += str(i)\n",
    "        seq(low,high,i+1,ans)\n",
    "        ans = ans[:len(ans)-1]\n",
    "low,high = 100,300\n",
    "seq(low,high,1,\"\")"
   ]
  },
  {
   "cell_type": "code",
   "execution_count": 22,
   "metadata": {},
   "outputs": [
    {
     "data": {
      "text/plain": [
       "[[1, 1, 6], [1, 2, 5], [1, 7], [2, 6]]"
      ]
     },
     "execution_count": 22,
     "metadata": {},
     "output_type": "execute_result"
    }
   ],
   "source": [
    "def combinationSum(candidates,target):\n",
    "    res = []\n",
    "    def helper(candidates,ind,target,ans):\n",
    "        if target==0:\n",
    "            res.append(ans[:])\n",
    "            return \n",
    "        used = set()\n",
    "        for i in range(ind,len(candidates)):\n",
    "            if candidates[i] in used: continue;\n",
    "            if target-candidates[i]>=0:\n",
    "                used.add(candidates[i])\n",
    "                ans.append(candidates[i])\n",
    "                helper(candidates,i+1,target-candidates[i],ans)\n",
    "                ans.pop()    \n",
    "    helper(candidates,0,target,[])\n",
    "    return res\n",
    "combinationSum(sorted([10,1,2,7,6,1,5]),8)"
   ]
  },
  {
   "cell_type": "code",
   "execution_count": 23,
   "metadata": {},
   "outputs": [
    {
     "data": {
      "text/plain": [
       "[[], [1], [1, 2], [1, 2, 3], [1, 3], [2], [2, 3], [3]]"
      ]
     },
     "execution_count": 23,
     "metadata": {},
     "output_type": "execute_result"
    }
   ],
   "source": [
    "def helper(nums,ind,ans,res):\n",
    "    res.append(ans[:])\n",
    "    for i in range(ind,len(nums)):\n",
    "        if i != ind and nums[i] == nums[i-1]:continue;\n",
    "        ans.append(nums[i])\n",
    "        helper(nums,i+1,ans,res)\n",
    "        ans.pop()\n",
    "res = []\n",
    "nums = [1,2,3]\n",
    "helper(nums,0,[],res)\n",
    "res\n",
    "#[[2],[1],[1,2,2],[2,2],[1,2],[]]"
   ]
  },
  {
   "cell_type": "code",
   "execution_count": 24,
   "metadata": {},
   "outputs": [
    {
     "name": "stdout",
     "output_type": "stream",
     "text": [
      "\n",
      "jnfbyktlrqumowxd\n",
      "mvhgcpxnjzrdei\n"
     ]
    }
   ],
   "source": [
    "def comb(arr,ind,ans):\n",
    "    print(ans)\n",
    "    if ind == len(arr):\n",
    "        return\n",
    "    for i in range(ind,len(arr)):\n",
    "        if len(ans+arr[i])==len(set(ans+arr[i])):\n",
    "            comb(arr,i+1,ans+arr[i])\n",
    "arr = [\"jnfbyktlrqumowxd\",\"mvhgcpxnjzrdei\"]\n",
    "comb(arr,0,\"\")"
   ]
  },
  {
   "cell_type": "code",
   "execution_count": 29,
   "metadata": {},
   "outputs": [
    {
     "data": {
      "text/plain": [
       "[['123', '456', '579']]"
      ]
     },
     "execution_count": 29,
     "metadata": {},
     "output_type": "execute_result"
    }
   ],
   "source": [
    "def Split(s,ans,ind):\n",
    "    if ind == len(s) and len(ans)>2:\n",
    "        res.append(ans[:])\n",
    "        return \n",
    "    for i in range(ind,len(s)):\n",
    "        temp = s[ind:i+1]\n",
    "        if int(temp)>(1<<31)-1:return \n",
    "        if len(temp)>1 and temp[0] == '0':continue; \n",
    "        if len(ans)>=2 and int(ans[-2]) + int(ans[-1])!=int(temp):continue;\n",
    "        ans.append(temp)\n",
    "        Split(s,ans,i+1)\n",
    "        ans.pop()\n",
    "res = []\n",
    "Split('123456579',[],0)\n",
    "res"
   ]
  },
  {
   "cell_type": "code",
   "execution_count": 30,
   "metadata": {},
   "outputs": [
    {
     "name": "stdout",
     "output_type": "stream",
     "text": [
      "['1', '1', '2', '3', '5', '8', '13', '21', '34', '55', '89', '144', '233', '377', '610', '987', '1597']\n"
     ]
    }
   ],
   "source": [
    "def AdditiveNumber(s,ans,ind):\n",
    "    if ind == len(s) and len(ans)>2:\n",
    "        print(ans[:])\n",
    "        return \n",
    "    for i in range(ind,len(s)):\n",
    "        temp = s[ind:i+1]\n",
    "        if len(temp)>1 and temp[0] == '0':continue;\n",
    "        if len(ans)>=2 and int(ans[-2]) + int(ans[-1]) != int(temp):continue;\n",
    "        ans.append(temp)\n",
    "        AdditiveNumber(s,ans,i+1)\n",
    "        ans.pop()\n",
    "# 1, 1, 2, 3, 5, 8\n",
    "AdditiveNumber('11235813213455891442333776109871597',[],0)"
   ]
  },
  {
   "cell_type": "code",
   "execution_count": null,
   "metadata": {},
   "outputs": [],
   "source": []
  }
 ],
 "metadata": {
  "kernelspec": {
   "display_name": "Python 3",
   "language": "python",
   "name": "python3"
  },
  "language_info": {
   "codemirror_mode": {
    "name": "ipython",
    "version": 3
   },
   "file_extension": ".py",
   "mimetype": "text/x-python",
   "name": "python",
   "nbconvert_exporter": "python",
   "pygments_lexer": "ipython3",
   "version": "3.7.6"
  }
 },
 "nbformat": 4,
 "nbformat_minor": 4
}
